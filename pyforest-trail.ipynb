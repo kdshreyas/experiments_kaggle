{
 "cells": [
  {
   "cell_type": "code",
   "execution_count": 1,
   "id": "2719834a",
   "metadata": {
    "_cell_guid": "b1076dfc-b9ad-4769-8c92-a6c4dae69d19",
    "_uuid": "8f2839f25d086af736a60e9eeb907d3b93b6e0e5",
    "execution": {
     "iopub.execute_input": "2023-10-11T17:15:11.756347Z",
     "iopub.status.busy": "2023-10-11T17:15:11.755630Z",
     "iopub.status.idle": "2023-10-11T17:15:11.766302Z",
     "shell.execute_reply": "2023-10-11T17:15:11.765435Z"
    },
    "papermill": {
     "duration": 0.019725,
     "end_time": "2023-10-11T17:15:11.769355",
     "exception": false,
     "start_time": "2023-10-11T17:15:11.749630",
     "status": "completed"
    },
    "tags": []
   },
   "outputs": [
    {
     "name": "stdout",
     "output_type": "stream",
     "text": [
      "clean\n"
     ]
    }
   ],
   "source": [
    "print('clean')"
   ]
  },
  {
   "cell_type": "code",
   "execution_count": 2,
   "id": "f8922792",
   "metadata": {
    "execution": {
     "iopub.execute_input": "2023-10-11T17:15:11.781706Z",
     "iopub.status.busy": "2023-10-11T17:15:11.780816Z",
     "iopub.status.idle": "2023-10-11T17:18:45.300406Z",
     "shell.execute_reply": "2023-10-11T17:18:45.299449Z"
    },
    "papermill": {
     "duration": 213.527418,
     "end_time": "2023-10-11T17:18:45.303262",
     "exception": false,
     "start_time": "2023-10-11T17:15:11.775844",
     "status": "completed"
    },
    "tags": []
   },
   "outputs": [
    {
     "name": "stdout",
     "output_type": "stream",
     "text": [
      "Collecting pyforest\r\n",
      "  Downloading pyforest-1.1.0.tar.gz (15 kB)\r\n",
      "  Preparing metadata (setup.py) ... \u001b[?25l-\b \b\\\b \b|\b \bdone\r\n",
      "\u001b[?25hBuilding wheels for collected packages: pyforest\r\n",
      "  Building wheel for pyforest (setup.py) ... \u001b[?25l-\b \b\\\b \b|\b \b/\b \bdone\r\n",
      "\u001b[?25h  Created wheel for pyforest: filename=pyforest-1.1.0-py2.py3-none-any.whl size=14606 sha256=6b893e84d82c8882075ec4dc955feaea69bf9d18bcef90ca117422fa5383e482\r\n",
      "  Stored in directory: /root/.cache/pip/wheels/9e/7d/2c/5d2f5e62de376c386fd3bf5a8e5bd119ace6a9f48f49df6017\r\n",
      "Successfully built pyforest\r\n",
      "Installing collected packages: pyforest\r\n",
      "Successfully installed pyforest-1.1.0\r\n",
      "Starting to install pyforest extensions for Jupyter Notebook and Jupyter Lab\r\n",
      "\r\n",
      "Trying to install pyforest nbextension...\r\n",
      "\r\n",
      "Finished installing the pyforest Jupyter Notebook nbextension\r\n",
      "Please reload your Jupyter notebook browser window\r\n",
      "\r\n",
      "Trying to install pyforest labextension...\r\n",
      "-\b\\\b|\b/\b-\b\\\b-\b\\\b|\b/\b-\b\\\b|\b/\b-\b\\\b|\b/\b-\b\\\b|\b/\b-\b\\\bSuccessfully installed pyforest Jupyter Lab labextension\r\n",
      "\r\n",
      "Starting JupyterLab build\r\n",
      "-\b\\\b|\b/\b-\b\\\b|\b/\b-\b\\\b-\b\\\b|\b/\b-\b\\\b|\b/\b-\b\\\b|\b/\b-\b\\\b|\b/\b-\b\\\b|\b/\b-\b\\\b|\b/\b-\b\\\b|\b/\b-\b\\\b|\b/\b-\b\\\b|\b/\b-\b\\\b|\b/\b-\b\\\b|\b/\b-\b\\\b|\b/\b-\b\\\b|\b/\b-\b\\\b|\b/\b-\b\\\b|\b/\b-\b\\\b|\b/\b-\b\\\b|\b/\b-\b\\\b|\b/\b-\b\\\b|\b/\b-\b\\\b|\b/\b-\b\\\b|\b/\b-\b\\\b|\b/\b-\b\\\b|\b/\b-\b\\\b|\b/\b-\b\\\b|\b/\b-\b\\\b|\b/\b-\b\\\b|\b/\b-\b\\\b|\b/\b-\b\\\b|\b/\b-\b\\\b|\b/\b-\b\\\b|\b/\b-\b\\\b|\b/\b-\b\\\b|\b/\b-\b\\\b|\b/\b-\b\\\b|\b/\b-\b\\\b|\b/\b-\b\\\b|\b/\b-\b\\\b|\b/\b-\b\\\b|\b/\b-\b\\\b|\b/\b-\b\\\b|\b/\b-\b\\\b|\b/\b-\b\\\b|\b/\b-\b\\\b|\b/\b-\b\\\b|\b/\b-\b\\\b|\b/\b-\b\\\b|\b/\b-\b\\\b|\b/\b-\b\\\b|\b/\b-\b\\\b|\b/\b-\b\\\b|\b/\b-\b\\\b|\b/\b-\b\\\b|\b/\b-\b\\\b|\b/\b-\b\\\b|\b/\b-\b\\\b|\b/\b-\b\\\b|\b/\b-\b\\\b|\b/\b-\b\\\b|\b/\b-\b\\\b|\b/\b-\b\\\b|\b/\b-\b\\\b|\b/\b-\b\\\b|\b/\b-\b\\\b|\b/\b-\b\\\b|\b/\b-\b\\\b|\b/\b-\b\\\b|\b/\b-\b\\\b|\b/\b-\b\\\b|\b/\b-\b\\\b|\b/\b-\b\\\b|\b/\b-\b\\\b|\b/\b-\b\\\b|\b/\b-\b\\\b|\b/\b-\b\\\b|\b/\b-\b\\\b|\b/\b-\b\\\b|\b/\b-\b\\\b|\b/\b-\b\\\b|\b/\b-\b\\\b|\b/\b-\b\\\b|\b/\b-\b\\\b|\b/\b-\b\\\b|\b/\b-\b\\\b|\b/\b-\b\\\b|\b/\b-\b\\\b|\b/\b-\b\\\b|\b/\b-\b\\\b|\b/\b-\b\\\b|\b/\b-\b\\\b|\b/\b-\b\\\b|\b/\b-\b\\\b|\b/\b-\b\\\b|\b/\b-\b\\\b|\b/\b-\b\\\b|\b/\b-\b\\\b|\b/\b-\b\\\b|\b/\b-\b\\\b|\b/\b-\b\\\b|\b/\b-\b\\\b|\b/\b-\b\\\b|\b/\b-\b\\\b|\b/\b-\b\\\b|\b/\b-\b\\\b|\b/\b-\b\\\b|\b/\b-\b\\\b|\b/\b-\b\\\b|\b/\b-\b\\\b|\b/\b-\b\\\b|\b/\b-\b\\\b|\b/\b-\b\\\b|\b/\b-\b\\\b|\b/\b-\b\\\b|\b/\b-\b\\\b|\b/\b-\b\\\b|\b/\b-\b\\\b|\b/\b-\b\\\b|\b/\b-\b\\\b|\b/\b-\b\\\b|\b/\b-\b\\\b|\b/\b-\b\\\b|\b/\b-\b\\\b|\b/\b-\b\\\b|\b/\b-\b\\\b|\b/\b-\b\\\b|\b/\b-\b\\\b|\b/\b-\b\\\b|\b/\b-\b\\\b|\b/\b-\b\\\b|\b/\b-\b\\\b|\b/\b-\b\\\b|\b/\b-\b\\\b|\b/\b-\b\\\b|\b/\b-\b\\\b|\b/\b-\b\\\b|\b/\b-\b\\\b|\b/\b-\b\\\b|\b/\b-\b\\\b|\b/\b-\b\\\b|\b/\b-\b\\\b|\b/\b-\b\\\b|\b/\b-\b\\\b|\b/\b-\b\\\b|\b/\b-\b\\\b|\b/\b-\b\\\b|\b/\b-\b\\\b|\b/\b-\b\\\b|\b/\b-\b\\\b|\b/\b-\b\\\b|\b/\b-\b\\\b|\b/\b-\b\\\b|\b/\b-\b\\\b|\b/\b-\b\\\b|\b/\b-\b\\\b|\b/\b-\b\\\b|\b/\b-\b\\\b|\b/\b-\b\\\b|\b/\b-\b\\\b|\b/\b-\b\\\b|\b/\b-\b\\\b|\b/\b-\b\\\b|\b/\b-\b\\\b|\b/\b-\b\\\b|\b/\b-\b\\\b|\b/\b-\b\\\b|\b/\b-\b\\\b|\b/\b-\b\\\b|\b/\b-\b\\\b|\b/\b-\b\\\b|\b/\b-\b\\\b|\b/\b-\b\\\b|\b/\b-\b\\\b|\b/\b-\b\\\b|\b/\b-\b\\\b|\b/\b-\b\\\b|\b/\b-\b\\\b|\b/\b-\b\\\b|\b/\b-\b\\\b|\b/\b-\b\\\b|\b/\b-\b\\\b-\b\\\b|\b/\b-\b\\\b|\b/\b-\b\\\b|\b/\b-\b\\\b|\b/\b-\b-\b\\\b|\b/\b-\b\\\b|\b/\b-\b\\\b|\b/\b-\b\\\b|\b/\b-\b\\\b|\b/\b-\b\\\b|\b/\b-\b\\\b|\b/\b-\b\\\b|\b/\b-\b\\\b|\b/\b-\b\\\b|\b/\b-\b\\\b|\b/\b-\b\\\b|\b/\b-\b\\\b|\b/\b-\b\\\b|\b/\b-\b\\\b|\b/\b-\b\\\b|\b/\b-\b\\\b|\b/\b-\b\\\b|\b/\b-\b\\\b|\b/\b-\b\\\b|\b/\b-\b\\\b|\b/\b-\b\\\b|\b/\b-\b\\\b|\b/\b-\b\\\b|\b/\b-\b-\b\\\b|\b/\b-\b\\\b|\b/\b-\b\\\b|\b/\b-\b\\\b|\b/\b-\b\\\b|\b/\b-\b\\\b|\b/\b-\b\\\b|\b/\b-\b\\\b|\b/\b-\b\\\b|\b/\b-\b\\\b|\b/\b-\b\\\b|\b/\b-\b\\\b|\b/\b-\b\\\b|\b/\b-\b\\\b|\b/\b-\b\\\b|\b/\b-\b\\\b|\b/\b-\b\\\b|\b/\b-\b\\\b|\b/\b-\b\\\b|\b/\b-\b\\\b|\b/\b-\b\\\b|\b/\b-\b\\\b|\b/\b-\b\\\b|\b/\b-\b\\\b|\b/\b-\b\\\b|\b/\b-\b\\\b|\b/\b-\b\\\b|\b/\b-\b\\\b|\b/\b-\b\\\b|\b/\b-\b\\\b|\b/\b-\b\\\b|\b/\b-\b\\\b|\b/\b-\b\\\b|\b/\b-\b\\\b|\b/\b-\b\\\b|\b/\b-\b\\\b|\b/\b-\b\\\b|\b/\b-\b\\\b|\b/\b-\b\\\b|\b/\b-\b\\\b|\b/\b-\b\\\b|\b/\b-\b\\\b|\b/\b-\b\\\b|\b/\b-\b\\\b|\b/\b-\b\\\b|\b/\b-\b\\\b|\b/\b-\b\\\b|\b/\b-\b\\\b|\b/\b-\b\\\b|\b/\b-\b\\\b|\b/\b-\b\\\b|\b/\b-\b\\\b|\b/\b-\b\\\b|\b/\b-\b\\\b|\b/\b-\b\\\b|\b/\b-\b\\\b|\b/\b-\b\\\b|\b/\b-\b\\\b|\b/\b-\b\\\b|\b/\b-\b\\\b|\b/\b-\b\\\b|\b/\b-\b\\\b|\b/\b-\b\\\b|\b/\b-\b\\\b|\b/\b-\b\\\b|\b/\b-\b\\\b|\b/\b-\b\\\b|\b/\b-\b\\\b|\b/\b-\b\\\b|\b/\b-\b\\\b|\b/\b-\b\\\b|\b/\b-\b\\\b|\b/\b-\b\\\b|\b/\b-\b\\\b|\b/\b-\b\\\b|\b/\b-\b\\\b|\b/\b-\b\\\b|\b/\b-\b\\\b|\b/\b-\b\\\b|\b/\b-\b\\\b|\b/\b-\b\\\b|\b/\b-\b\\\b|\b/\b-\b\\\b|\b/\b-\b\\\b|\b/\b-\b\\\b|\b/\b-\b\\\b|\b/\b-\b\\\b|\b/\b-\b\\\b|\b/\b-\b\\\b|\b/\b-\b\\\b|\b/\b-\b\\\b|\b/\b-\b\\\b|\b/\b-\b\\\b|\b/\b-\b\\\b|\b/\b-\b\\\b|\b/\b-\b\\\b|\b/\b-\b\\\b|\b/\b-\b\\\b|\b/\b-\b\\\b|\b/\b-\b\\\b|\b/\b-\b\\\b|\b/\b-\b\\\b|\b/\b-\b\\\b|\b/\b-\b\\\b|\b/\b-\b\\\b|\b/\b-\b\\\b|\b/\b-\b\\\b|\b/\b-\b\\\b|\b/\b-\b\\\b|\b/\b-\b\\\b|\b/\b-\b\\\b|\b/\b-\b\\\b|\b/\b-\b\\\b|\b/\b-\b\\\b|\b/\b-\b\\\b|\b/\b-\b\\\b|\b/\b-\b\\\b|\b/\b-\b\\\b|\b/\b-\b\\\b|\b/\b-\b\\\b|\b/\b-\b\\\b|\b/\b-\b\\\b|\b/\b-\b\\\b|\b/\b-\b\\\b|\b/\b-\b\\\b|\b/\b-\b\\\b|\b/\b-\b\\\b|\b/\b-\b\\\b|\b/\b-\b\\\b|\b/\b-\b\\\b|\b/\b-\b\\\b|\b/\b-\b\\\b|\b/\b-\b\\\b|\b/\b-\b\\\b|\b/\b-\b\\\b|\b/\b-\b\\\b|\b/\b-\b\\\b|\b/\b-\b\\\b|\b/\b-\b\\\b|\b/\b-\b\\\b|\b/\b-\b\\\b|\b/\b-\b\\\b|\b/\b-\b\\\b|\b/\b-\b\\\b|\b/\b-\b\\\b|\b/\b-\b\\\b|\b/\b-\b\\\b|\b/\b-\b\\\b|\b/\b-\b\\\b|\b/\b-\b\\\b|\b/\b-\b\\\b|\b/\b-\b\\\b|\b/\b-\b\\\b|\b/\b-\b\\\b|\b/\b-\b\\\b|\b/\b-\b\\\b|\b/\b-\b\\\b|\b/\b-\b\\\b|\b/\b-\b\\\b|\b/\b-\b\\\b|\b/\b-\b\\\b|\b/\b-\b\\\b|\b/\b-\b\\\b|\b/\b-\b\\\b|\b/\b-\b\\\b|\b/\b-\b\\\b|\b/\b-\b\\\b|\b/\b-\b\\\b|\b/\b-\b\\\b|\b/\b-\b\\\b|\b/\b-\b\\\b|\b/\b-\b\\\b|\b/\b-\b\\\b|\b/\b-\b\\\b|\b/\b-\b\\\b|\b/\b-\b\\\b|\b/\b-\b\\\b|\b/\b-\b\\\b|\b/\b-\b\\\b|\b/\b-\b\\\b|\b/\b-\b\\\b|\b/\b-\b\\\b|\b/\b-\b\\\b|\b/\b-\b\\\b|\b/\b-\b\\\b|\b/\b-\b\\\b|\b/\b-\b\\\b|\b/\b-\b\\\b|\b/\b-\b\\\b|\b/\b-\b\\\b|\b/\b-\b\\\b|\b/\b-\b\\\b|\b/\b-\b\\\b|\b/\b-\b\\\b|\b/\b-\b\\\b|\b/\b-\b\\\b|\b/\b-\b\\\b|\b/\b-\b\\\b|\b/\b-\b\\\b|\b/\b-\b\\\b|\b/\b-\b\\\b|\b/\b-\b\\\b|\b/\b-\b\\\b|\b/\b-\b\\\b|\b/\b-\b\\\b|\b/\b-\b\\\b|\b/\b-\b\\\b|\b/\b-\b\\\b|\b/\b-\b\\\b|\b/\b-\b\\\b|\b/\b-\b\\\b|\b/\b-\b\\\b|\b/\b-\b\\\b|\b/\b-\b\\\b|\b/\b-\b\\\b|\b/\b-\b\\\b|\b/\b-\b\\\b|\b/\b-\b\\\b|\b/\b-\b\\\b|\b/\b-\b\\\b|\b/\b-\b\\\b|\b/\b-\b\\\b|\b/\b-\b\\\b|\b/\b-\b\\\b|\b/\b-\b\\\b|\b/\b-\b\\\b|\b/\b-\b\\\b|\b/\b-\b\\\b|\b/\b-\b\\\b|\b/\b-\b\\\b|\b/\b-\b\\\b|\b/\b-\b\\\b|\b/\b-\b\\\b|\b/\b-\b\\\b|\b/\b-\b\\\b|\b/\b-\b\\\b|\b/\b-\b\\\b|\b/\b-\b\\\b|\b/\b-\b\\\b|\b/\b-\b\\\b|\b/\b-\b\\\b|\b/\b-\b\\\b|\b/\b-\b\\\b|\b/\b-\b\\\b|\b/\b-\b\\\b|\b/\b-\b\\\b|\b/\b-\b\\\b|\b/\b-\b\\\b|\b/\b-\b\\\b|\b/\b-\b\\\b|\b/\b-\b\\\b|\b/\b-\b\\\b|\b/\b-\b\\\b|\b/\b-\b\\\b|\b/\b-\b\\\b|\b/\b-\b\\\b|\b/\b-\b\\\b|\b/\b-\b\\\b|\b/\b-\b\\\b|\b/\b-\b\\\b|\b/\b-\b\\\b|\b/\b-\b\\\b|\b/\b-\b\\\b|\b/\b-\b\\\b|\b/\b-\b\\\b|\b/\b-\b\\\b|\b/\b-\b\\\b|\b/\b-\bSuccessfully built JupyterLab\r\n",
      "\r\n",
      "Please reload your Jupyter Lab browser window\r\n",
      "\r\n",
      "Finished installing the pyforest Jupyter extensions\r\n",
      "Please reload your Jupyter notebook and/or Jupyter lab browser windows\r\n"
     ]
    }
   ],
   "source": [
    "!pip install --upgrade pyforest\n",
    "!python -m pyforest install_extensions"
   ]
  },
  {
   "cell_type": "code",
   "execution_count": 3,
   "id": "06feac31",
   "metadata": {
    "execution": {
     "iopub.execute_input": "2023-10-11T17:18:45.506850Z",
     "iopub.status.busy": "2023-10-11T17:18:45.506417Z",
     "iopub.status.idle": "2023-10-11T17:18:55.533895Z",
     "shell.execute_reply": "2023-10-11T17:18:55.532877Z"
    },
    "papermill": {
     "duration": 10.133148,
     "end_time": "2023-10-11T17:18:55.536730",
     "exception": false,
     "start_time": "2023-10-11T17:18:45.403582",
     "status": "completed"
    },
    "tags": []
   },
   "outputs": [
    {
     "name": "stdout",
     "output_type": "stream",
     "text": [
      "Name: pyforest\r\n",
      "Version: 1.1.0\r\n",
      "Summary: Lazy-import of all popular Python Data Science libraries. Stop writing the same imports over and over again.\r\n",
      "Home-page: https://github.com/8080labs/pyforest/\r\n",
      "Author: Florian Wetschoreck, Guido Drechsel, Tobias Krabel\r\n",
      "Author-email: info@8080labs.com\r\n",
      "License: mit\r\n",
      "Location: /opt/conda/lib/python3.10/site-packages\r\n",
      "Requires: \r\n",
      "Required-by: \r\n"
     ]
    }
   ],
   "source": [
    "!pip show pyforest"
   ]
  },
  {
   "cell_type": "code",
   "execution_count": 4,
   "id": "baf3fb62",
   "metadata": {
    "execution": {
     "iopub.execute_input": "2023-10-11T17:18:55.736224Z",
     "iopub.status.busy": "2023-10-11T17:18:55.735796Z",
     "iopub.status.idle": "2023-10-11T17:18:55.967633Z",
     "shell.execute_reply": "2023-10-11T17:18:55.966076Z"
    },
    "papermill": {
     "duration": 0.334039,
     "end_time": "2023-10-11T17:18:55.970449",
     "exception": false,
     "start_time": "2023-10-11T17:18:55.636410",
     "status": "completed"
    },
    "tags": []
   },
   "outputs": [],
   "source": [
    "import pyforest"
   ]
  },
  {
   "cell_type": "code",
   "execution_count": 5,
   "id": "96338974",
   "metadata": {
    "execution": {
     "iopub.execute_input": "2023-10-11T17:18:56.177730Z",
     "iopub.status.busy": "2023-10-11T17:18:56.177295Z",
     "iopub.status.idle": "2023-10-11T17:18:57.302917Z",
     "shell.execute_reply": "2023-10-11T17:18:57.301634Z"
    },
    "papermill": {
     "duration": 1.228745,
     "end_time": "2023-10-11T17:18:57.305698",
     "exception": false,
     "start_time": "2023-10-11T17:18:56.076953",
     "status": "completed"
    },
    "tags": []
   },
   "outputs": [
    {
     "data": {
      "application/javascript": [
       "\n",
       "        if (window._pyforest_update_imports_cell) { window._pyforest_update_imports_cell('import pandas as pd'); }\n",
       "    "
      ],
      "text/plain": [
       "<IPython.core.display.Javascript object>"
      ]
     },
     "metadata": {},
     "output_type": "display_data"
    }
   ],
   "source": [
    "\n",
    "df = pd.read_csv(\"/kaggle/input/horror-movies-dataset/horror_movies.csv\")"
   ]
  },
  {
   "cell_type": "code",
   "execution_count": 6,
   "id": "6190aba3",
   "metadata": {
    "execution": {
     "iopub.execute_input": "2023-10-11T17:18:57.500999Z",
     "iopub.status.busy": "2023-10-11T17:18:57.500536Z",
     "iopub.status.idle": "2023-10-11T17:18:57.532528Z",
     "shell.execute_reply": "2023-10-11T17:18:57.531024Z"
    },
    "papermill": {
     "duration": 0.130716,
     "end_time": "2023-10-11T17:18:57.534738",
     "exception": false,
     "start_time": "2023-10-11T17:18:57.404022",
     "status": "completed"
    },
    "tags": []
   },
   "outputs": [
    {
     "data": {
      "text/html": [
       "<div>\n",
       "<style scoped>\n",
       "    .dataframe tbody tr th:only-of-type {\n",
       "        vertical-align: middle;\n",
       "    }\n",
       "\n",
       "    .dataframe tbody tr th {\n",
       "        vertical-align: top;\n",
       "    }\n",
       "\n",
       "    .dataframe thead th {\n",
       "        text-align: right;\n",
       "    }\n",
       "</style>\n",
       "<table border=\"1\" class=\"dataframe\">\n",
       "  <thead>\n",
       "    <tr style=\"text-align: right;\">\n",
       "      <th></th>\n",
       "      <th>id</th>\n",
       "      <th>original_title</th>\n",
       "      <th>title</th>\n",
       "      <th>original_language</th>\n",
       "      <th>overview</th>\n",
       "      <th>tagline</th>\n",
       "      <th>release_date</th>\n",
       "      <th>poster_path</th>\n",
       "      <th>popularity</th>\n",
       "      <th>vote_count</th>\n",
       "      <th>vote_average</th>\n",
       "      <th>budget</th>\n",
       "      <th>revenue</th>\n",
       "      <th>runtime</th>\n",
       "      <th>status</th>\n",
       "      <th>adult</th>\n",
       "      <th>backdrop_path</th>\n",
       "      <th>genre_names</th>\n",
       "      <th>collection</th>\n",
       "      <th>collection_name</th>\n",
       "    </tr>\n",
       "  </thead>\n",
       "  <tbody>\n",
       "    <tr>\n",
       "      <th>0</th>\n",
       "      <td>760161</td>\n",
       "      <td>Orphan: First Kill</td>\n",
       "      <td>Orphan: First Kill</td>\n",
       "      <td>en</td>\n",
       "      <td>After escaping from an Estonian psychiatric fa...</td>\n",
       "      <td>There's always been something wrong with Esther.</td>\n",
       "      <td>2022-07-27</td>\n",
       "      <td>/pHkKbIRoCe7zIFvqan9LFSaQAde.jpg</td>\n",
       "      <td>5088.584</td>\n",
       "      <td>902</td>\n",
       "      <td>6.9</td>\n",
       "      <td>0</td>\n",
       "      <td>9572765</td>\n",
       "      <td>99</td>\n",
       "      <td>Released</td>\n",
       "      <td>False</td>\n",
       "      <td>/5GA3vV1aWWHTSDO5eno8V5zDo8r.jpg</td>\n",
       "      <td>Horror, Thriller</td>\n",
       "      <td>760193.0</td>\n",
       "      <td>Orphan Collection</td>\n",
       "    </tr>\n",
       "    <tr>\n",
       "      <th>1</th>\n",
       "      <td>760741</td>\n",
       "      <td>Beast</td>\n",
       "      <td>Beast</td>\n",
       "      <td>en</td>\n",
       "      <td>A recently widowed man and his two teenage dau...</td>\n",
       "      <td>Fight for family.</td>\n",
       "      <td>2022-08-11</td>\n",
       "      <td>/xIGr7UHsKf0URWmyyd5qFMAq4d8.jpg</td>\n",
       "      <td>2172.338</td>\n",
       "      <td>584</td>\n",
       "      <td>7.1</td>\n",
       "      <td>0</td>\n",
       "      <td>56000000</td>\n",
       "      <td>93</td>\n",
       "      <td>Released</td>\n",
       "      <td>False</td>\n",
       "      <td>/2k9tBql5GYH328Krj66tDT9LtFZ.jpg</td>\n",
       "      <td>Adventure, Drama, Horror</td>\n",
       "      <td>NaN</td>\n",
       "      <td>NaN</td>\n",
       "    </tr>\n",
       "    <tr>\n",
       "      <th>2</th>\n",
       "      <td>882598</td>\n",
       "      <td>Smile</td>\n",
       "      <td>Smile</td>\n",
       "      <td>en</td>\n",
       "      <td>After witnessing a bizarre, traumatic incident...</td>\n",
       "      <td>Once you see it, it’s too late.</td>\n",
       "      <td>2022-09-23</td>\n",
       "      <td>/hiaeZKzwsk4y4atFhmncO5KRxeT.jpg</td>\n",
       "      <td>1863.628</td>\n",
       "      <td>114</td>\n",
       "      <td>6.8</td>\n",
       "      <td>17000000</td>\n",
       "      <td>45000000</td>\n",
       "      <td>115</td>\n",
       "      <td>Released</td>\n",
       "      <td>False</td>\n",
       "      <td>/mVNPfpydornVe4H4UCIk7WevWjf.jpg</td>\n",
       "      <td>Horror, Mystery, Thriller</td>\n",
       "      <td>NaN</td>\n",
       "      <td>NaN</td>\n",
       "    </tr>\n",
       "    <tr>\n",
       "      <th>3</th>\n",
       "      <td>756999</td>\n",
       "      <td>The Black Phone</td>\n",
       "      <td>The Black Phone</td>\n",
       "      <td>en</td>\n",
       "      <td>Finney Blake, a shy but clever 13-year-old boy...</td>\n",
       "      <td>Never talk to strangers.</td>\n",
       "      <td>2022-06-22</td>\n",
       "      <td>/lr11mCT85T1JanlgjMuhs9nMht4.jpg</td>\n",
       "      <td>1071.398</td>\n",
       "      <td>2736</td>\n",
       "      <td>7.9</td>\n",
       "      <td>18800000</td>\n",
       "      <td>161000000</td>\n",
       "      <td>103</td>\n",
       "      <td>Released</td>\n",
       "      <td>False</td>\n",
       "      <td>/AfvIjhDu9p64jKcmohS4hsPG95Q.jpg</td>\n",
       "      <td>Horror, Thriller</td>\n",
       "      <td>NaN</td>\n",
       "      <td>NaN</td>\n",
       "    </tr>\n",
       "    <tr>\n",
       "      <th>4</th>\n",
       "      <td>772450</td>\n",
       "      <td>Presencias</td>\n",
       "      <td>Presences</td>\n",
       "      <td>es</td>\n",
       "      <td>A man who loses his wife and goes to seclude h...</td>\n",
       "      <td>NaN</td>\n",
       "      <td>2022-09-07</td>\n",
       "      <td>/dgDT3uol3mdvwEg0jt1ble3l9hw.jpg</td>\n",
       "      <td>1020.995</td>\n",
       "      <td>83</td>\n",
       "      <td>7.0</td>\n",
       "      <td>0</td>\n",
       "      <td>0</td>\n",
       "      <td>0</td>\n",
       "      <td>Released</td>\n",
       "      <td>False</td>\n",
       "      <td>/ojfzhdwRemcDt1I6pao6vVLw9AA.jpg</td>\n",
       "      <td>Horror</td>\n",
       "      <td>NaN</td>\n",
       "      <td>NaN</td>\n",
       "    </tr>\n",
       "  </tbody>\n",
       "</table>\n",
       "</div>"
      ],
      "text/plain": [
       "       id      original_title               title original_language  \\\n",
       "0  760161  Orphan: First Kill  Orphan: First Kill                en   \n",
       "1  760741               Beast               Beast                en   \n",
       "2  882598               Smile               Smile                en   \n",
       "3  756999     The Black Phone     The Black Phone                en   \n",
       "4  772450          Presencias           Presences                es   \n",
       "\n",
       "                                            overview  \\\n",
       "0  After escaping from an Estonian psychiatric fa...   \n",
       "1  A recently widowed man and his two teenage dau...   \n",
       "2  After witnessing a bizarre, traumatic incident...   \n",
       "3  Finney Blake, a shy but clever 13-year-old boy...   \n",
       "4  A man who loses his wife and goes to seclude h...   \n",
       "\n",
       "                                            tagline release_date  \\\n",
       "0  There's always been something wrong with Esther.   2022-07-27   \n",
       "1                                 Fight for family.   2022-08-11   \n",
       "2                   Once you see it, it’s too late.   2022-09-23   \n",
       "3                          Never talk to strangers.   2022-06-22   \n",
       "4                                               NaN   2022-09-07   \n",
       "\n",
       "                        poster_path  popularity  vote_count  vote_average  \\\n",
       "0  /pHkKbIRoCe7zIFvqan9LFSaQAde.jpg    5088.584         902           6.9   \n",
       "1  /xIGr7UHsKf0URWmyyd5qFMAq4d8.jpg    2172.338         584           7.1   \n",
       "2  /hiaeZKzwsk4y4atFhmncO5KRxeT.jpg    1863.628         114           6.8   \n",
       "3  /lr11mCT85T1JanlgjMuhs9nMht4.jpg    1071.398        2736           7.9   \n",
       "4  /dgDT3uol3mdvwEg0jt1ble3l9hw.jpg    1020.995          83           7.0   \n",
       "\n",
       "     budget    revenue  runtime    status  adult  \\\n",
       "0         0    9572765       99  Released  False   \n",
       "1         0   56000000       93  Released  False   \n",
       "2  17000000   45000000      115  Released  False   \n",
       "3  18800000  161000000      103  Released  False   \n",
       "4         0          0        0  Released  False   \n",
       "\n",
       "                      backdrop_path                genre_names  collection  \\\n",
       "0  /5GA3vV1aWWHTSDO5eno8V5zDo8r.jpg           Horror, Thriller    760193.0   \n",
       "1  /2k9tBql5GYH328Krj66tDT9LtFZ.jpg   Adventure, Drama, Horror         NaN   \n",
       "2  /mVNPfpydornVe4H4UCIk7WevWjf.jpg  Horror, Mystery, Thriller         NaN   \n",
       "3  /AfvIjhDu9p64jKcmohS4hsPG95Q.jpg           Horror, Thriller         NaN   \n",
       "4  /ojfzhdwRemcDt1I6pao6vVLw9AA.jpg                     Horror         NaN   \n",
       "\n",
       "     collection_name  \n",
       "0  Orphan Collection  \n",
       "1                NaN  \n",
       "2                NaN  \n",
       "3                NaN  \n",
       "4                NaN  "
      ]
     },
     "execution_count": 6,
     "metadata": {},
     "output_type": "execute_result"
    }
   ],
   "source": [
    "df.head()"
   ]
  },
  {
   "cell_type": "code",
   "execution_count": 7,
   "id": "df972b79",
   "metadata": {
    "execution": {
     "iopub.execute_input": "2023-10-11T17:18:57.734016Z",
     "iopub.status.busy": "2023-10-11T17:18:57.732908Z",
     "iopub.status.idle": "2023-10-11T17:18:57.743428Z",
     "shell.execute_reply": "2023-10-11T17:18:57.741763Z"
    },
    "papermill": {
     "duration": 0.115051,
     "end_time": "2023-10-11T17:18:57.745900",
     "exception": false,
     "start_time": "2023-10-11T17:18:57.630849",
     "status": "completed"
    },
    "tags": []
   },
   "outputs": [
    {
     "data": {
      "application/javascript": [
       "\n",
       "        if (window._pyforest_update_imports_cell) { window._pyforest_update_imports_cell('import numpy as np\\nimport pandas as pd'); }\n",
       "    "
      ],
      "text/plain": [
       "<IPython.core.display.Javascript object>"
      ]
     },
     "metadata": {},
     "output_type": "display_data"
    },
    {
     "name": "stdout",
     "output_type": "stream",
     "text": [
      "[[1 2 3]\n",
      " [4 5 6]\n",
      " [7 8 9]]\n"
     ]
    }
   ],
   "source": [
    "# here we have not import \n",
    "# 'numpy as np' by explicitly \n",
    "a = np.array([[1, 2, 3], [4, 5, 6], [7, 8, 9]]) \n",
    "\n",
    "print(a) \n"
   ]
  },
  {
   "cell_type": "code",
   "execution_count": 8,
   "id": "d9666221",
   "metadata": {
    "execution": {
     "iopub.execute_input": "2023-10-11T17:18:57.950825Z",
     "iopub.status.busy": "2023-10-11T17:18:57.950490Z",
     "iopub.status.idle": "2023-10-11T17:19:00.208269Z",
     "shell.execute_reply": "2023-10-11T17:19:00.207036Z"
    },
    "papermill": {
     "duration": 2.365343,
     "end_time": "2023-10-11T17:19:00.211402",
     "exception": false,
     "start_time": "2023-10-11T17:18:57.846059",
     "status": "completed"
    },
    "tags": []
   },
   "outputs": [
    {
     "name": "stdout",
     "output_type": "stream",
     "text": [
      "['All', 'apples', 'are', 'red', 'in', 'colour']\n"
     ]
    }
   ],
   "source": [
    "# here we do not import \n",
    "# ' Nltk library' by ourself \n",
    "# but only the class of nltk . \n",
    "from nltk.tokenize import word_tokenize \n",
    "\n",
    "data = \"All apples are red in colour\"\n",
    "\n",
    "print(word_tokenize(data)) \n"
   ]
  },
  {
   "cell_type": "code",
   "execution_count": 9,
   "id": "97886eee",
   "metadata": {
    "execution": {
     "iopub.execute_input": "2023-10-11T17:19:00.411518Z",
     "iopub.status.busy": "2023-10-11T17:19:00.411032Z",
     "iopub.status.idle": "2023-10-11T17:19:00.658907Z",
     "shell.execute_reply": "2023-10-11T17:19:00.657570Z"
    },
    "papermill": {
     "duration": 0.352222,
     "end_time": "2023-10-11T17:19:00.661469",
     "exception": false,
     "start_time": "2023-10-11T17:19:00.309247",
     "status": "completed"
    },
    "tags": []
   },
   "outputs": [
    {
     "data": {
      "application/javascript": [
       "\n",
       "        if (window._pyforest_update_imports_cell) { window._pyforest_update_imports_cell('import matplotlib.pyplot as plt\\nimport numpy as np\\nimport pandas as pd'); }\n",
       "    "
      ],
      "text/plain": [
       "<IPython.core.display.Javascript object>"
      ]
     },
     "metadata": {},
     "output_type": "display_data"
    },
    {
     "data": {
      "application/javascript": [
       "\n",
       "        if (window._pyforest_update_imports_cell) { window._pyforest_update_imports_cell('import matplotlib.pyplot as plt\\nimport numpy as np\\nimport pandas as pd'); }\n",
       "    "
      ],
      "text/plain": [
       "<IPython.core.display.Javascript object>"
      ]
     },
     "metadata": {},
     "output_type": "display_data"
    },
    {
     "data": {
      "image/png": "[encoded data removed]",
      "text/plain": [
       "<Figure size 640x480 with 1 Axes>"
      ]
     },
     "metadata": {},
     "output_type": "display_data"
    }
   ],
   "source": [
    "# here we have not imported \n",
    "# 'matplotlib.pyplot as plt' by ourself. \n",
    "\n",
    "x = [1, 2, 3, 4, 5, 6, 7, 8, 9, 10] \n",
    "y = [1, 2, 3, 4, 5, 6, 7, 8, 9, 10] \n",
    "\n",
    "plt.plot(x, y) \n",
    "plt.show() \n"
   ]
  },
  {
   "cell_type": "code",
   "execution_count": 10,
   "id": "5f283921",
   "metadata": {
    "execution": {
     "iopub.execute_input": "2023-10-11T17:19:00.865386Z",
     "iopub.status.busy": "2023-10-11T17:19:00.864884Z",
     "iopub.status.idle": "2023-10-11T17:19:00.871437Z",
     "shell.execute_reply": "2023-10-11T17:19:00.870595Z"
    },
    "papermill": {
     "duration": 0.1119,
     "end_time": "2023-10-11T17:19:00.874454",
     "exception": false,
     "start_time": "2023-10-11T17:19:00.762554",
     "status": "completed"
    },
    "tags": []
   },
   "outputs": [
    {
     "name": "stdout",
     "output_type": "stream",
     "text": [
      "import matplotlib.pyplot as plt\n",
      "import numpy as np\n",
      "import pandas as pd\n"
     ]
    },
    {
     "data": {
      "text/plain": [
       "['import matplotlib.pyplot as plt',\n",
       " 'import numpy as np',\n",
       " 'import pandas as pd']"
      ]
     },
     "execution_count": 10,
     "metadata": {},
     "output_type": "execute_result"
    }
   ],
   "source": [
    "pyforest.active_imports()"
   ]
  },
  {
   "cell_type": "code",
   "execution_count": 11,
   "id": "e9e3face",
   "metadata": {
    "execution": {
     "iopub.execute_input": "2023-10-11T17:19:01.087323Z",
     "iopub.status.busy": "2023-10-11T17:19:01.086642Z",
     "iopub.status.idle": "2023-10-11T17:19:01.093084Z",
     "shell.execute_reply": "2023-10-11T17:19:01.092167Z"
    },
    "papermill": {
     "duration": 0.117613,
     "end_time": "2023-10-11T17:19:01.095132",
     "exception": false,
     "start_time": "2023-10-11T17:19:00.977519",
     "status": "completed"
    },
    "tags": []
   },
   "outputs": [
    {
     "data": {
      "text/plain": [
       "['import re',\n",
       " 'import lightgbm as lgb',\n",
       " 'import glob',\n",
       " 'import tqdm',\n",
       " 'import spacy',\n",
       " 'from PIL import Image',\n",
       " 'from sklearn.preprocessing import PolynomialFeatures',\n",
       " 'import nltk',\n",
       " 'import statistics',\n",
       " 'from sklearn.preprocessing import MinMaxScaler',\n",
       " 'from sklearn.model_selection import train_test_split',\n",
       " 'from sklearn.model_selection import RandomizedSearchCV',\n",
       " 'from sklearn.preprocessing import LabelEncoder',\n",
       " 'import tensorflow as tf',\n",
       " 'from sklearn.feature_extraction.text import TfidfVectorizer',\n",
       " 'from sklearn.model_selection import StratifiedKFold',\n",
       " 'from sklearn.linear_model import Ridge',\n",
       " 'from xlrd import open_workbook',\n",
       " 'from statsmodels.tsa.arima_model import ARIMA',\n",
       " 'from sklearn.ensemble import RandomForestClassifier',\n",
       " 'import gensim',\n",
       " 'import imutils',\n",
       " 'from sklearn import metrics',\n",
       " 'import fastai',\n",
       " 'from sklearn.ensemble import GradientBoostingClassifier',\n",
       " 'from sklearn.decomposition import PCA',\n",
       " 'import plotly as py',\n",
       " 'from sklearn.linear_model import LinearRegression',\n",
       " 'import cv2',\n",
       " 'import matplotlib as mpl',\n",
       " 'from sklearn.model_selection import GridSearchCV',\n",
       " 'from sklearn import svm',\n",
       " 'import sklearn',\n",
       " 'from sklearn.linear_model import RidgeCV',\n",
       " 'import dash',\n",
       " 'import pydot',\n",
       " 'from sklearn.preprocessing import StandardScaler',\n",
       " 'from openpyxl import load_workbook',\n",
       " 'from sklearn.model_selection import KFold',\n",
       " 'from sklearn.cluster import KMeans',\n",
       " 'from sklearn.model_selection import cross_val_score',\n",
       " 'import pickle',\n",
       " 'from fbprophet import Prophet',\n",
       " 'from sklearn.preprocessing import OneHotEncoder',\n",
       " 'from sklearn.linear_model import LogisticRegression',\n",
       " 'import plotly.graph_objs as go',\n",
       " 'import datetime as dt',\n",
       " 'import sys',\n",
       " 'import statsmodels.api as sm',\n",
       " 'from sklearn.impute import SimpleImputer',\n",
       " 'from sklearn.ensemble import RandomForestRegressor',\n",
       " 'from scipy import stats',\n",
       " 'import fbprophet',\n",
       " 'from pathlib import Path',\n",
       " 'from sklearn.linear_model import LassoCV',\n",
       " 'import torch',\n",
       " 'from sklearn.linear_model import Lasso',\n",
       " 'from sklearn.preprocessing import RobustScaler',\n",
       " 'from sklearn.linear_model import ElasticNet',\n",
       " 'from pyspark import SparkContext',\n",
       " 'import awswrangler as wr',\n",
       " 'from sklearn.ensemble import GradientBoostingRegressor',\n",
       " 'from sklearn.feature_extraction.text import CountVectorizer',\n",
       " 'import os',\n",
       " 'import plotly.express as px',\n",
       " 'import seaborn as sns',\n",
       " 'from scipy import signal as sg',\n",
       " 'import keras',\n",
       " 'import altair as alt',\n",
       " 'import bokeh',\n",
       " 'import textblob',\n",
       " 'from sklearn.manifold import TSNE',\n",
       " 'from sklearn.linear_model import ElasticNetCV',\n",
       " 'import xgboost as xgb',\n",
       " 'from dask import dataframe as dd',\n",
       " 'import skimage']"
      ]
     },
     "execution_count": 11,
     "metadata": {},
     "output_type": "execute_result"
    }
   ],
   "source": [
    "pyforest.lazy_imports()"
   ]
  }
 ],
 "metadata": {
  "kernelspec": {
   "display_name": "Python 3",
   "language": "python",
   "name": "python3"
  },
  "language_info": {
   "codemirror_mode": {
    "name": "ipython",
    "version": 3
   },
   "file_extension": ".py",
   "mimetype": "text/x-python",
   "name": "python",
   "nbconvert_exporter": "python",
   "pygments_lexer": "ipython3",
   "version": "3.10.12"
  },
  "papermill": {
   "default_parameters": {},
   "duration": 233.633899,
   "end_time": "2023-10-11T17:19:01.923572",
   "environment_variables": {},
   "exception": null,
   "input_path": "__notebook__.ipynb",
   "output_path": "__notebook__.ipynb",
   "parameters": {},
   "start_time": "2023-10-11T17:15:08.289673",
   "version": "2.4.0"
  }
 },
 "nbformat": 4,
 "nbformat_minor": 5
}
